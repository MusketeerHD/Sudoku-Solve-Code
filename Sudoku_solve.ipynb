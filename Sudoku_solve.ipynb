{
  "cells": [
    {
      "cell_type": "code",
      "execution_count": null,
      "metadata": {
        "id": "2JeQQ3KpvO32"
      },
      "outputs": [],
      "source": [
        "import numpy as np\n",
        "import pandas as pd\n",
        "import keras\n",
        "import keras.backend as K\n",
        "from keras.optimizers import Adam\n",
        "from keras.models import Sequential\n",
        "from keras.utils import Sequence\n",
        "from keras.layers import *\n",
        "import matplotlib.pyplot as plt"
      ]
    },
    {
      "cell_type": "code",
      "execution_count": null,
      "metadata": {
        "colab": {
          "base_uri": "https://localhost:8080/",
          "height": 206
        },
        "id": "HJzFbqIlvR7P",
        "outputId": "ef331885-183c-472e-a762-dddc620038e7"
      },
      "outputs": [
        {
          "output_type": "execute_result",
          "data": {
            "text/plain": [
              "                                             quizzes  \\\n",
              "0  0043002090050090010700600430060020871900074000...   \n",
              "1  0401000501070039605200080000000000170009068008...   \n",
              "2  6001203840084590720000060050002640300700800069...   \n",
              "3  4972000001004000050000160986203000403009000000...   \n",
              "4  0059103080094030600275001000300002010008200070...   \n",
              "\n",
              "                                           solutions  \n",
              "0  8643712593258497619712658434361925871986574322...  \n",
              "1  3461792581875239645296483719658324174729168358...  \n",
              "2  6951273841384596727248369158512647392739815469...  \n",
              "3  4972583161864397252537164986293815473759641828...  \n",
              "4  4659123781894735623275681497386452919548216372...  "
            ],
            "text/html": [
              "\n",
              "  <div id=\"df-d321b736-e1b8-4b5c-a505-fbc8bb203fe8\">\n",
              "    <div class=\"colab-df-container\">\n",
              "      <div>\n",
              "<style scoped>\n",
              "    .dataframe tbody tr th:only-of-type {\n",
              "        vertical-align: middle;\n",
              "    }\n",
              "\n",
              "    .dataframe tbody tr th {\n",
              "        vertical-align: top;\n",
              "    }\n",
              "\n",
              "    .dataframe thead th {\n",
              "        text-align: right;\n",
              "    }\n",
              "</style>\n",
              "<table border=\"1\" class=\"dataframe\">\n",
              "  <thead>\n",
              "    <tr style=\"text-align: right;\">\n",
              "      <th></th>\n",
              "      <th>quizzes</th>\n",
              "      <th>solutions</th>\n",
              "    </tr>\n",
              "  </thead>\n",
              "  <tbody>\n",
              "    <tr>\n",
              "      <th>0</th>\n",
              "      <td>0043002090050090010700600430060020871900074000...</td>\n",
              "      <td>8643712593258497619712658434361925871986574322...</td>\n",
              "    </tr>\n",
              "    <tr>\n",
              "      <th>1</th>\n",
              "      <td>0401000501070039605200080000000000170009068008...</td>\n",
              "      <td>3461792581875239645296483719658324174729168358...</td>\n",
              "    </tr>\n",
              "    <tr>\n",
              "      <th>2</th>\n",
              "      <td>6001203840084590720000060050002640300700800069...</td>\n",
              "      <td>6951273841384596727248369158512647392739815469...</td>\n",
              "    </tr>\n",
              "    <tr>\n",
              "      <th>3</th>\n",
              "      <td>4972000001004000050000160986203000403009000000...</td>\n",
              "      <td>4972583161864397252537164986293815473759641828...</td>\n",
              "    </tr>\n",
              "    <tr>\n",
              "      <th>4</th>\n",
              "      <td>0059103080094030600275001000300002010008200070...</td>\n",
              "      <td>4659123781894735623275681497386452919548216372...</td>\n",
              "    </tr>\n",
              "  </tbody>\n",
              "</table>\n",
              "</div>\n",
              "      <button class=\"colab-df-convert\" onclick=\"convertToInteractive('df-d321b736-e1b8-4b5c-a505-fbc8bb203fe8')\"\n",
              "              title=\"Convert this dataframe to an interactive table.\"\n",
              "              style=\"display:none;\">\n",
              "        \n",
              "  <svg xmlns=\"http://www.w3.org/2000/svg\" height=\"24px\"viewBox=\"0 0 24 24\"\n",
              "       width=\"24px\">\n",
              "    <path d=\"M0 0h24v24H0V0z\" fill=\"none\"/>\n",
              "    <path d=\"M18.56 5.44l.94 2.06.94-2.06 2.06-.94-2.06-.94-.94-2.06-.94 2.06-2.06.94zm-11 1L8.5 8.5l.94-2.06 2.06-.94-2.06-.94L8.5 2.5l-.94 2.06-2.06.94zm10 10l.94 2.06.94-2.06 2.06-.94-2.06-.94-.94-2.06-.94 2.06-2.06.94z\"/><path d=\"M17.41 7.96l-1.37-1.37c-.4-.4-.92-.59-1.43-.59-.52 0-1.04.2-1.43.59L10.3 9.45l-7.72 7.72c-.78.78-.78 2.05 0 2.83L4 21.41c.39.39.9.59 1.41.59.51 0 1.02-.2 1.41-.59l7.78-7.78 2.81-2.81c.8-.78.8-2.07 0-2.86zM5.41 20L4 18.59l7.72-7.72 1.47 1.35L5.41 20z\"/>\n",
              "  </svg>\n",
              "      </button>\n",
              "      \n",
              "  <style>\n",
              "    .colab-df-container {\n",
              "      display:flex;\n",
              "      flex-wrap:wrap;\n",
              "      gap: 12px;\n",
              "    }\n",
              "\n",
              "    .colab-df-convert {\n",
              "      background-color: #E8F0FE;\n",
              "      border: none;\n",
              "      border-radius: 50%;\n",
              "      cursor: pointer;\n",
              "      display: none;\n",
              "      fill: #1967D2;\n",
              "      height: 32px;\n",
              "      padding: 0 0 0 0;\n",
              "      width: 32px;\n",
              "    }\n",
              "\n",
              "    .colab-df-convert:hover {\n",
              "      background-color: #E2EBFA;\n",
              "      box-shadow: 0px 1px 2px rgba(60, 64, 67, 0.3), 0px 1px 3px 1px rgba(60, 64, 67, 0.15);\n",
              "      fill: #174EA6;\n",
              "    }\n",
              "\n",
              "    [theme=dark] .colab-df-convert {\n",
              "      background-color: #3B4455;\n",
              "      fill: #D2E3FC;\n",
              "    }\n",
              "\n",
              "    [theme=dark] .colab-df-convert:hover {\n",
              "      background-color: #434B5C;\n",
              "      box-shadow: 0px 1px 3px 1px rgba(0, 0, 0, 0.15);\n",
              "      filter: drop-shadow(0px 1px 2px rgba(0, 0, 0, 0.3));\n",
              "      fill: #FFFFFF;\n",
              "    }\n",
              "  </style>\n",
              "\n",
              "      <script>\n",
              "        const buttonEl =\n",
              "          document.querySelector('#df-d321b736-e1b8-4b5c-a505-fbc8bb203fe8 button.colab-df-convert');\n",
              "        buttonEl.style.display =\n",
              "          google.colab.kernel.accessAllowed ? 'block' : 'none';\n",
              "\n",
              "        async function convertToInteractive(key) {\n",
              "          const element = document.querySelector('#df-d321b736-e1b8-4b5c-a505-fbc8bb203fe8');\n",
              "          const dataTable =\n",
              "            await google.colab.kernel.invokeFunction('convertToInteractive',\n",
              "                                                     [key], {});\n",
              "          if (!dataTable) return;\n",
              "\n",
              "          const docLinkHtml = 'Like what you see? Visit the ' +\n",
              "            '<a target=\"_blank\" href=https://colab.research.google.com/notebooks/data_table.ipynb>data table notebook</a>'\n",
              "            + ' to learn more about interactive tables.';\n",
              "          element.innerHTML = '';\n",
              "          dataTable['output_type'] = 'display_data';\n",
              "          await google.colab.output.renderOutput(dataTable, element);\n",
              "          const docLink = document.createElement('div');\n",
              "          docLink.innerHTML = docLinkHtml;\n",
              "          element.appendChild(docLink);\n",
              "        }\n",
              "      </script>\n",
              "    </div>\n",
              "  </div>\n",
              "  "
            ]
          },
          "metadata": {},
          "execution_count": 2
        }
      ],
      "source": [
        "data = pd.read_csv('sudoku.csv')\n",
        "try:\n",
        "    data = pd.DataFrame({\"quizzes\":data[\"puzzle\"],\"solutions\":data[\"solution\"]})\n",
        "except:\n",
        "    pass\n",
        "data.head()"
      ]
    },
    {
      "cell_type": "code",
      "execution_count": null,
      "metadata": {
        "colab": {
          "base_uri": "https://localhost:8080/"
        },
        "id": "pYjRRI1EvUeh",
        "outputId": "f134895f-ea61-45ee-e7eb-eda4516c51e6"
      },
      "outputs": [
        {
          "output_type": "stream",
          "name": "stdout",
          "text": [
            "<class 'pandas.core.frame.DataFrame'>\n",
            "RangeIndex: 1000000 entries, 0 to 999999\n",
            "Data columns (total 2 columns):\n",
            " #   Column     Non-Null Count    Dtype \n",
            "---  ------     --------------    ----- \n",
            " 0   quizzes    1000000 non-null  object\n",
            " 1   solutions  1000000 non-null  object\n",
            "dtypes: object(2)\n",
            "memory usage: 15.3+ MB\n"
          ]
        }
      ],
      "source": [
        "data.info()"
      ]
    },
    {
      "cell_type": "code",
      "execution_count": null,
      "metadata": {
        "colab": {
          "base_uri": "https://localhost:8080/"
        },
        "id": "8d8My9AAz01-",
        "outputId": "0d7dde7a-62e5-461c-a6df-3d9d09972a43"
      },
      "outputs": [
        {
          "output_type": "stream",
          "name": "stdout",
          "text": [
            "Quiz:\n",
            " [[0 0 4 3 0 0 2 0 9]\n",
            " [0 0 5 0 0 9 0 0 1]\n",
            " [0 7 0 0 6 0 0 4 3]\n",
            " [0 0 6 0 0 2 0 8 7]\n",
            " [1 9 0 0 0 7 4 0 0]\n",
            " [0 5 0 0 8 3 0 0 0]\n",
            " [6 0 0 0 0 0 1 0 5]\n",
            " [0 0 3 5 0 8 6 9 0]\n",
            " [0 4 2 9 1 0 3 0 0]]\n",
            "Solution:\n",
            " [[8 6 4 3 7 1 2 5 9]\n",
            " [3 2 5 8 4 9 7 6 1]\n",
            " [9 7 1 2 6 5 8 4 3]\n",
            " [4 3 6 1 9 2 5 8 7]\n",
            " [1 9 8 6 5 7 4 3 2]\n",
            " [2 5 7 4 8 3 9 1 6]\n",
            " [6 8 9 7 3 4 1 2 5]\n",
            " [7 1 3 5 2 8 6 9 4]\n",
            " [5 4 2 9 1 6 3 7 8]]\n"
          ]
        }
      ],
      "source": [
        "print(\"Quiz:\\n\",np.array(list(map(int,list(data['quizzes'][0])))).reshape(9,9))\n",
        "print(\"Solution:\\n\",np.array(list(map(int,list(data['solutions'][0])))).reshape(9,9))"
      ]
    },
    {
      "cell_type": "code",
      "execution_count": null,
      "metadata": {
        "id": "KoDpatuy3dyH"
      },
      "outputs": [],
      "source": [
        "#Utility Functions\n",
        "class DataGenerator(Sequence):\n",
        "    def __init__(self, df,batch_size = 16,subset = \"train\",shuffle = False, info={}):\n",
        "        super().__init__()\n",
        "        self.df = df\n",
        "        self.batch_size = batch_size\n",
        "        self.shuffle = shuffle\n",
        "        self.subset = subset\n",
        "        self.info = info\n",
        "        \n",
        "        self.data_path = data\n",
        "        self.on_epoch_end()\n",
        "        \n",
        "        \n",
        "    def __len__(self):\n",
        "        return int(np.floor(len(self.df)/self.batch_size))\n",
        "    def on_epoch_end(self):\n",
        "        self.indexes = np.arange(len(self.df))\n",
        "        if self.shuffle==True:\n",
        "            np.random.shuffle(self.indexes)\n",
        "            \n",
        "    def __getitem__(self,index):\n",
        "        X = np.empty((self.batch_size, 9,9,1))\n",
        "        y = np.empty((self.batch_size,81,1))\n",
        "        indexes = self.indexes[index*self.batch_size:(index+1)*self.batch_size]\n",
        "        for i,f in enumerate(self.df['quizzes'].iloc[indexes]):\n",
        "            self.info[index*self.batch_size+i]=f\n",
        "            X[i,] = (np.array(list(map(int,list(f)))).reshape((9,9,1))/9)-0.5\n",
        "        if self.subset == 'train': \n",
        "            for i,f in enumerate(self.df['solutions'].iloc[indexes]):\n",
        "                self.info[index*self.batch_size+i]=f\n",
        "                y[i,] = np.array(list(map(int,list(f)))).reshape((81,1)) - 1\n",
        "        if self.subset == 'train': return X, y\n",
        "        else: return X"
      ]
    },
    {
      "cell_type": "code",
      "execution_count": null,
      "metadata": {
        "colab": {
          "base_uri": "https://localhost:8080/"
        },
        "id": "Y6O1Q2xB4pBY",
        "outputId": "4d962372-4afb-4fe6-8646-03041f59bdf4"
      },
      "outputs": [
        {
          "output_type": "stream",
          "name": "stderr",
          "text": [
            "/usr/local/lib/python3.8/dist-packages/keras/optimizers/optimizer_v2/adam.py:110: UserWarning: The `lr` argument is deprecated, use `learning_rate` instead.\n",
            "  super(Adam, self).__init__(name, **kwargs)\n"
          ]
        }
      ],
      "source": [
        "model = Sequential()\n",
        "\n",
        "model.add(Conv2D(64, kernel_size=(3,3), activation='relu', padding='same', input_shape=(9,9,1)))\n",
        "model.add(BatchNormalization())\n",
        "model.add(Conv2D(64, kernel_size=(3,3), activation='relu', padding='same'))\n",
        "model.add(BatchNormalization())\n",
        "model.add(Conv2D(128, kernel_size=(1,1), activation='relu', padding='same'))\n",
        "\n",
        "model.add(Flatten())\n",
        "model.add(Dense(81*9))\n",
        "model.add(Reshape((-1, 9)))\n",
        "model.add(Activation('softmax'))\n",
        "\n",
        "adam = keras.optimizers.Adam(lr=.001)\n",
        "model.compile(loss='sparse_categorical_crossentropy', optimizer=adam, metrics=['accuracy'])"
      ]
    },
    {
      "cell_type": "code",
      "execution_count": null,
      "metadata": {
        "colab": {
          "base_uri": "https://localhost:8080/"
        },
        "id": "vJcWhwHXf9cB",
        "outputId": "0d828480-8682-4a4c-d24b-1e9975f3741f"
      },
      "outputs": [
        {
          "output_type": "stream",
          "name": "stdout",
          "text": [
            "Model: \"sequential\"\n",
            "_________________________________________________________________\n",
            " Layer (type)                Output Shape              Param #   \n",
            "=================================================================\n",
            " conv2d (Conv2D)             (None, 9, 9, 64)          640       \n",
            "                                                                 \n",
            " batch_normalization (BatchN  (None, 9, 9, 64)         256       \n",
            " ormalization)                                                   \n",
            "                                                                 \n",
            " conv2d_1 (Conv2D)           (None, 9, 9, 64)          36928     \n",
            "                                                                 \n",
            " batch_normalization_1 (Batc  (None, 9, 9, 64)         256       \n",
            " hNormalization)                                                 \n",
            "                                                                 \n",
            " conv2d_2 (Conv2D)           (None, 9, 9, 128)         8320      \n",
            "                                                                 \n",
            " flatten (Flatten)           (None, 10368)             0         \n",
            "                                                                 \n",
            " dense (Dense)               (None, 729)               7559001   \n",
            "                                                                 \n",
            " reshape (Reshape)           (None, 81, 9)             0         \n",
            "                                                                 \n",
            " activation (Activation)     (None, 81, 9)             0         \n",
            "                                                                 \n",
            "=================================================================\n",
            "Total params: 7,605,401\n",
            "Trainable params: 7,605,145\n",
            "Non-trainable params: 256\n",
            "_________________________________________________________________\n"
          ]
        }
      ],
      "source": [
        "model.summary()"
      ]
    },
    {
      "cell_type": "code",
      "execution_count": null,
      "metadata": {
        "id": "4TCWrCpT4Igr"
      },
      "outputs": [],
      "source": [
        "train_idx = int(len(data)*0.95)\n",
        "data = data.sample(frac=1).reset_index(drop=True)\n",
        "training_generator = DataGenerator(data.iloc[:train_idx], batch_size=640)\n",
        "validation_generator = DataGenerator(data.iloc[train_idx:], batch_size=640)"
      ]
    },
    {
      "cell_type": "code",
      "execution_count": null,
      "metadata": {
        "colab": {
          "base_uri": "https://localhost:8080/"
        },
        "id": "KVuNawgzZErg",
        "outputId": "995f632a-f4a5-4a75-a46c-4e14ff84ed92"
      },
      "outputs": [
        {
          "output_type": "execute_result",
          "data": {
            "text/plain": [
              "(640, 9, 9, 1)"
            ]
          },
          "metadata": {},
          "execution_count": 9
        }
      ],
      "source": [
        "training_generator.__getitem__(4)[0].shape"
      ]
    },
    {
      "cell_type": "code",
      "execution_count": null,
      "metadata": {
        "id": "BPHye6f_Zuvb"
      },
      "outputs": [],
      "source": [
        "from keras.callbacks import Callback, ModelCheckpoint, ReduceLROnPlateau\n",
        "filepath1=\"weights-improvement-{epoch:02d}-{val_accuracy:.2f}.hdf5\"\n",
        "filepath2 = \"best_weights.hdf5\"\n",
        "checkpoint1 = ModelCheckpoint(filepath1, monitor='val_accuracy', verbose=1, save_best_only=True, mode='max')\n",
        "checkpoint2 = ModelCheckpoint(filepath2, monitor='val_accuracy', verbose=1, save_best_only=True, mode='max')\n",
        "\n",
        "reduce_lr = ReduceLROnPlateau(\n",
        "    monitor='val_loss',\n",
        "    patience=3,\n",
        "    verbose=1,\n",
        "    min_lr=1e-6\n",
        ")\n",
        "callbacks_list = [checkpoint1,checkpoint2,reduce_lr]"
      ]
    },
    {
      "cell_type": "code",
      "execution_count": null,
      "metadata": {
        "colab": {
          "base_uri": "https://localhost:8080/"
        },
        "id": "iItQhmwF4uap",
        "outputId": "a17a4d30-81bb-4735-f237-cfb02c98d1f5"
      },
      "outputs": [
        {
          "output_type": "stream",
          "name": "stderr",
          "text": [
            "<ipython-input-12-10848f7197ff>:1: UserWarning: `Model.fit_generator` is deprecated and will be removed in a future version. Please use `Model.fit`, which supports generators.\n",
            "  history = model.fit_generator(training_generator, validation_data = validation_generator, epochs = 1, verbose=1,callbacks=callbacks_list )\n"
          ]
        },
        {
          "output_type": "stream",
          "name": "stdout",
          "text": [
            "1484/1484 [==============================] - ETA: 0s - loss: 0.7133 - accuracy: 0.1126\n",
            "Epoch 1: val_accuracy improved from -inf to 0.10599, saving model to weights-improvement-01-0.11.hdf5\n",
            "\n",
            "Epoch 1: val_accuracy improved from -inf to 0.10599, saving model to best_weights.hdf5\n",
            "1484/1484 [==============================] - 1648s 1s/step - loss: 0.7133 - accuracy: 0.1126 - val_loss: 0.4111 - val_accuracy: 0.1060 - lr: 0.0010\n"
          ]
        }
      ],
      "source": [
        "history = model.fit_generator(training_generator, validation_data = validation_generator, epochs = 1, verbose=1,callbacks=callbacks_list )"
      ]
    },
    {
      "cell_type": "code",
      "execution_count": null,
      "metadata": {
        "id": "vnmTazlWd4Y2"
      },
      "outputs": [],
      "source": [
        "model.load_weights('best_weights.hdf5')"
      ]
    },
    {
      "cell_type": "code",
      "execution_count": null,
      "metadata": {
        "id": "OcID-gGed_iK"
      },
      "outputs": [],
      "source": [
        "def solve(bo):\n",
        "    find = find_empty(bo)\n",
        "    if not find:\n",
        "        return True\n",
        "    else:\n",
        "        row, col = find\n",
        "\n",
        "    for i in range(1,10):\n",
        "        if valid(bo, i, (row, col)):\n",
        "            bo[row][col] = i\n",
        "\n",
        "            if solve(bo):\n",
        "                return True\n",
        "\n",
        "            bo[row][col] = 0\n",
        "\n",
        "    return False\n",
        "\n",
        "\n",
        "def valid(bo, num, pos):\n",
        "    # Check row\n",
        "    for i in range(len(bo[0])):\n",
        "        if bo[pos[0]][i] == num and pos[1] != i:\n",
        "            return False\n",
        "\n",
        "    # Check column\n",
        "    for i in range(len(bo)):\n",
        "        if bo[i][pos[1]] == num and pos[0] != i:\n",
        "            return False\n",
        "\n",
        "    # Check box\n",
        "    box_x = pos[1] // 3\n",
        "    box_y = pos[0] // 3\n",
        "\n",
        "    for i in range(box_y*3, box_y*3 + 3):\n",
        "        for j in range(box_x * 3, box_x*3 + 3):\n",
        "            if bo[i][j] == num and (i,j) != pos:\n",
        "                return False\n",
        "\n",
        "    return True\n",
        "\n",
        "\n",
        "def print_board(bo):\n",
        "    for i in range(len(bo)):\n",
        "        if i % 3 == 0 and i != 0:\n",
        "            print(\"- - - - - - - - - - - - - \")\n",
        "\n",
        "        for j in range(len(bo[0])):\n",
        "            if j % 3 == 0 and j != 0:\n",
        "                print(\" | \", end=\"\")\n",
        "\n",
        "            if j == 8:\n",
        "                print(bo[i][j])\n",
        "            else:\n",
        "                print(str(bo[i][j]) + \" \", end=\"\")\n",
        "\n",
        "\n",
        "def find_empty(bo):\n",
        "    for i in range(len(bo)):\n",
        "        for j in range(len(bo[0])):\n",
        "            if bo[i][j] == 0:\n",
        "                return (i, j)  # row, col\n",
        "\n",
        "    return None"
      ]
    },
    {
      "cell_type": "code",
      "execution_count": null,
      "metadata": {
        "colab": {
          "base_uri": "https://localhost:8080/"
        },
        "id": "qGaWJFmFe9gs",
        "outputId": "a874af8e-a4f9-4b3e-cbb1-5f08735a0066"
      },
      "outputs": [
        {
          "output_type": "stream",
          "name": "stdout",
          "text": [
            "9 2 7  | 3 4 1  | 6 8 5\n",
            "5 6 3  | 9 7 8  | 4 1 2\n",
            "4 8 1  | 6 5 2  | 3 7 9\n",
            "- - - - - - - - - - - - - \n",
            "2 7 5  | 1 8 3  | 9 6 4\n",
            "1 9 6  | 4 2 7  | 5 3 8\n",
            "8 3 4  | 5 9 6  | 1 2 7\n",
            "- - - - - - - - - - - - - \n",
            "7 1 9  | 8 6 5  | 2 4 3\n",
            "6 4 8  | 2 3 9  | 7 5 1\n",
            "3 5 2  | 7 1 4  | 8 9 6\n",
            "CPU times: user 101 ms, sys: 2.02 ms, total: 103 ms\n",
            "Wall time: 108 ms\n"
          ]
        }
      ],
      "source": [
        "%%time\n",
        "game = '''\n",
        "          9 2 0 0 0 0 0 0 5\n",
        "          0 0 3 0 7 8 4 0 0\n",
        "          0 0 0 6 0 0 0 0 0\n",
        "          0 0 0 1 0 0 9 0 0\n",
        "          0 0 6 4 0 0 0 0 0\n",
        "          0 3 0 0 9 6 0 2 0\n",
        "          7 0 0 0 0 0 0 4 0\n",
        "          0 0 8 0 3 9 7 0 0\n",
        "          0 0 0 0 1 0 0 0 0\n",
        "      '''\n",
        "game = game.strip().split(\"\\n\")\n",
        "board = []\n",
        "for i in game:\n",
        "    t = i.replace(' ','').strip()\n",
        "    t = list(t)\n",
        "    t = list(map(int,t))\n",
        "    board.append(t)\n",
        "    \n",
        "if solve(board):\n",
        "    print_board(board)\n",
        "else:\n",
        "    print(\"Can't be solved.\")"
      ]
    }
  ],
  "metadata": {
    "colab": {
      "provenance": []
    },
    "kernelspec": {
      "display_name": "Python 3",
      "name": "python3"
    },
    "language_info": {
      "name": "python"
    }
  },
  "nbformat": 4,
  "nbformat_minor": 0
}